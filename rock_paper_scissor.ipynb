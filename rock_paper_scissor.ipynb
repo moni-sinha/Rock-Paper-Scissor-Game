{
  "nbformat": 4,
  "nbformat_minor": 0,
  "metadata": {
    "colab": {
      "name": "rock_paper_scissor.ipynb",
      "provenance": []
    },
    "kernelspec": {
      "name": "python3",
      "display_name": "Python 3"
    },
    "language_info": {
      "name": "python"
    }
  },
  "cells": [
    {
      "cell_type": "code",
      "metadata": {
        "colab": {
          "base_uri": "https://localhost:8080/"
        },
        "id": "50Lr-_q3Mqxi",
        "outputId": "54bf8220-2acc-4681-a6ad-6f2f2aa00107"
      },
      "source": [
        "import random\n",
        "\n",
        "print(\"...ROCK......PAPER......SCISSOR...\\n\")\n",
        "print(\"HEY! LET'S BEGIN :)\\n\")\n",
        "\n",
        "choice=[\"rock\",\"paper\",\"scissor\"]\n",
        "\n",
        "score1=0\n",
        "score2=0\n",
        "\n",
        "for i in range(5):\n",
        "  player1 = input(\"PLAYER 1: \")\n",
        "\n",
        "  player2 = random.choice(choice)\n",
        "  print(\"PLAYER 2:\",player2)\n",
        "\n",
        "  if player1 ==\"\" or player2 == \"\":\n",
        "      print(\"Choosing one is mandatory.\")\n",
        "\n",
        "  else:\n",
        "      if player1 == player2:\n",
        "          print(\"Oooh!!, That's a tie.\")\n",
        "          score1=score1+1\n",
        "          score2=score2+1\n",
        "\n",
        "      elif player1 == \"rock\":\n",
        "          if player2 == \"paper\":\n",
        "            score2=score2+1\n",
        "            print(\"Score of Player 2: \",score2)\n",
        "          elif player2 == \"scissor\":\n",
        "              score1=score1+1\n",
        "              print(\"Score of Player 1: \",score1)\n",
        "\n",
        "      elif player1 == \"paper\":\n",
        "          if player2 == \"scissor\":\n",
        "              score2=score2+1\n",
        "              print(\"Score of Player 2: \",score2)\n",
        "          elif player2 == \"rock\":\n",
        "              score1=score1+1\n",
        "              print(\"Score of Player 1: \",score1)\n",
        "\n",
        "      elif player1 == \"scissor\":\n",
        "          if player2 == \"rock\":\n",
        "              score2=score2+1\n",
        "              print(\"Score of Player 2: \",score2)\n",
        "          elif player2 == \"paper\":\n",
        "              score1=score1+1\n",
        "              print(\"Score of Player 1: \",score1)\n",
        "\n",
        "      else:\n",
        "          print(\"Someone made a wrong selection !!\")\n",
        "  print(\"\\n\")\n",
        "\n",
        "if score1==score2:\n",
        "  print(\"Ohh !! That's a tie..\")\n",
        "\n",
        "elif score1>score2:\n",
        "  print(\"Wohoo !! Player 1 wins..\")\n",
        "\n",
        "else:\n",
        "  print(\"Wohoo !! Player 2 wins..\")"
      ],
      "execution_count": 6,
      "outputs": [
        {
          "output_type": "stream",
          "text": [
            "...ROCK......PAPER......SCISSOR...\n",
            "\n",
            "HEY! LET'S BEGIN :)\n",
            "\n",
            "PLAYER 1: r\n",
            "PLAYER 2: rock\n",
            "Someone made a wrong selection !!\n",
            "\n",
            "\n",
            "PLAYER 1: scissor\n",
            "PLAYER 2: rock\n",
            "Score of Player 2:  1\n",
            "\n",
            "\n",
            "PLAYER 1: rock\n",
            "PLAYER 2: scissor\n",
            "Score of Player 1:  1\n",
            "\n",
            "\n",
            "PLAYER 1: \n",
            "PLAYER 2: paper\n",
            "Choosing one is mandatory.\n",
            "\n",
            "\n",
            "PLAYER 1: rock\n",
            "PLAYER 2: scissor\n",
            "Score of Player 1:  2\n",
            "\n",
            "\n",
            "Wohoo !! Player 1 wins..\n"
          ],
          "name": "stdout"
        }
      ]
    }
  ]
}